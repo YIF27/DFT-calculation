{
  "nbformat": 4,
  "nbformat_minor": 0,
  "metadata": {
    "colab": {
      "name": "surface energy.ipynb",
      "provenance": [],
      "collapsed_sections": [],
      "authorship_tag": "ABX9TyNrOnBWeSLnneR0PaDDEWo+",
      "include_colab_link": true
    },
    "kernelspec": {
      "name": "python3",
      "display_name": "Python 3"
    },
    "language_info": {
      "name": "python"
    }
  },
  "cells": [
    {
      "cell_type": "markdown",
      "metadata": {
        "id": "view-in-github",
        "colab_type": "text"
      },
      "source": [
        "<a href=\"https://colab.research.google.com/github/YIF27/DFT-calculation/blob/main/surface_energy.ipynb\" target=\"_parent\"><img src=\"https://colab.research.google.com/assets/colab-badge.svg\" alt=\"Open In Colab\"/></a>"
      ]
    },
    {
      "cell_type": "markdown",
      "source": [
        "## 1. Build Bulk Structure"
      ],
      "metadata": {
        "id": "-aWJrgjdvySs"
      }
    },
    {
      "cell_type": "markdown",
      "source": [
        "1.1 lattice parameter of unit cell of bulk structure"
      ],
      "metadata": {
        "id": "2da6iloOv0h2"
      }
    },
    {
      "cell_type": "markdown",
      "source": [
        "## 2. Cut surface"
      ],
      "metadata": {
        "id": "QqMLtmdov4Rr"
      }
    },
    {
      "cell_type": "markdown",
      "source": [
        "**2.1** cut (110) surface from (100) surface, tool is VESTA.\n",
        "       transformation matrix is (0 -1 1,\n",
        "       <br>                      0  1 1,\n",
        "       <br>                      1  0 0)"
      ],
      "metadata": {
        "id": "8WeefDcav646"
      }
    },
    {
      "cell_type": "markdown",
      "source": [
        "**2.2** be attention to the termination. do the test and literature review to check which termination is most stable."
      ],
      "metadata": {
        "id": "zAYjOC_jwQTw"
      }
    },
    {
      "cell_type": "markdown",
      "source": [
        "**2.3** Make sure the top and bottom surface of the structure should be same."
      ],
      "metadata": {
        "id": "nw4AOo-ywWXN"
      }
    },
    {
      "cell_type": "code",
      "source": [
        ""
      ],
      "metadata": {
        "id": "vD_8JeSHvzzr"
      },
      "execution_count": null,
      "outputs": []
    }
  ]
}